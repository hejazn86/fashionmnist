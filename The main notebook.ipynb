{
 "cells": [
  {
   "cell_type": "code",
   "execution_count": 2,
   "metadata": {},
   "outputs": [
    {
     "name": "stdout",
     "output_type": "stream",
     "text": [
      "1.13.1\n",
      "(60000, 28, 28, 1)\n",
      "(10000, 28, 28, 1)\n",
      "(60000, 10)\n"
     ]
    }
   ],
   "source": [
    "import tensorflow as tf\n",
    "print(tf.__version__)\n",
    "import numpy as np\n",
    "\n",
    "import matplotlib.pyplot as plt\n",
    " \n",
    " \n",
    " \n",
    "(x_train, y_train), (x_test, y_test) = tf.keras.datasets.fashion_mnist.load_data()\n",
    "\n",
    " \n",
    "#print(x_train.shape, x_train[10])\n",
    "#print(y_train.shape, y_train[20])\n",
    " \n",
    "x_train = x_train.reshape(60000, 28, 28, 1)\n",
    "x_test = x_test.reshape(10000, 28, 28, 1)\n",
    "#x_train = np.expand_dims(x_train, -1)\n",
    "#x_test = np.expand_dims(x_test, -1)\n",
    " \n",
    "x_train = x_train.astype(\"float32\")\n",
    "x_test = x_test.astype(\"float32\")\n",
    "x_train /= np.argmax(x_train)\n",
    "x_test /= np.argmax(x_test)\n",
    " \n",
    "y_train = tf.keras.utils.to_categorical(y_train)\n",
    "y_test = tf.keras.utils.to_categorical(y_test)\n",
    " \n",
    "print(x_train.shape)\n",
    "print(x_test.shape)\n",
    "print(y_train.shape)"
   ]
  },
  {
   "cell_type": "code",
   "execution_count": null,
   "metadata": {},
   "outputs": [],
   "source": [
    "model = tf.keras.models.Sequential([                                         \n",
    "tf.keras.layers.Conv2D(64, (6, 6), activation = 'elu', padding = 'same', input_shape=(28, 28, 1)),\n",
    "tf.keras.layers.MaxPool2D(pool_size = (2, 2), strides = (2, 2)),\n",
    "tf.keras.layers.Dropout(0.2),\n",
    "tf.keras.layers.Conv2D(128, (6, 6), activation = 'elu', padding = 'same'),\n",
    "tf.keras.layers.MaxPool2D(pool_size = (2, 2), strides = (2, 2)),\n",
    "tf.keras.layers.Dropout(0.2),\n",
    "tf.keras.layers.Conv2D(256, (6, 6), activation = 'elu', padding = 'same'),\n",
    "tf.keras.layers.MaxPool2D(pool_size = (2, 2), strides = (2, 2)),\n",
    "tf.keras.layers.Dropout(0.2),\n",
    "tf.keras.layers.Conv2D(256, (6, 6), activation = 'elu', padding = 'same'),\n",
    "tf.keras.layers.MaxPool2D(pool_size = (2, 2), strides = (2, 2)),\n",
    "tf.keras.layers.Dropout(0.2),\n",
    "tf.keras.layers.Flatten(),\n",
    "tf.keras.layers.BatchNormalization(axis = 1, momentum = 0.99, epsilon = 1e-8, center = True, scale = True),\n",
    "tf.keras.layers.Dense(512, activation = 'elu'),\n",
    "tf.keras.layers.Dropout(0.6),\n",
    "tf.keras.layers.BatchNormalization(axis = 1, momentum = 0.99, epsilon = 1e-8, center = True, scale = True),\n",
    "tf.keras.layers.Dense(10, activation = 'softmax')                                         \n",
    "])\n",
    " \n",
    "model.compile(optimizer = tf.keras.optimizers.Adam(lr= 1e-3), loss= tf.keras.losses.categorical_crossentropy, metrics= ['acc'] )"
   ]
  },
  {
   "cell_type": "code",
   "execution_count": null,
   "metadata": {},
   "outputs": [],
   "source": [
    "history = model.fit(x_train, y_train, epochs=100, batch_size=150, validation_split= 0.2, validation_data=(x_test, y_test))\n",
    "model.summary()\n"
   ]
  },
  {
   "cell_type": "code",
   "execution_count": null,
   "metadata": {},
   "outputs": [],
   "source": [
    "val_loss, val_acc = model.evaluate(x_test, y_test)\n",
    "y_pred = model.predict(x_test)\n",
    "\n",
    "loss = history.history['loss'] \n",
    "val_loss = history.history['val_loss']\n",
    "acc = history.history['acc']\n",
    "val_acc = history.history['val_acc']\n",
    "epochs = range(len(acc)) \n",
    " \n",
    " \n",
    "plt.figure(figsize=(9, 7))\n",
    "plt.subplot(121).plot(epochs, loss, 'ro')\n",
    "plt.subplot(121).plot(epochs, val_loss, 'g')\n",
    "plt.title('model Loss')\n",
    "plt.xlabel('Epochs')\n",
    "plt.ylabel('Loss')\n",
    "plt.legend(['Train', 'Test'], loc='upper right')\n",
    "plt.grid(True)\n",
    " \n",
    "plt.subplot(122).plot(epochs, acc, 'ro')\n",
    "plt.subplot(122).plot(epochs, val_acc, 'g')\n",
    "plt.title('model accuracy')\n",
    "plt.xlabel('Epochs')\n",
    "plt.ylabel('Accuracy')\n",
    "plt.legend(['Train', 'Test'], loc='upper right')\n",
    "plt.grid(True)\n",
    "plt.show()"
   ]
  }
 ],
 "metadata": {
  "kernelspec": {
   "display_name": "Python 3",
   "language": "python",
   "name": "python3"
  },
  "language_info": {
   "codemirror_mode": {
    "name": "ipython",
    "version": 3
   },
   "file_extension": ".py",
   "mimetype": "text/x-python",
   "name": "python",
   "nbconvert_exporter": "python",
   "pygments_lexer": "ipython3",
   "version": "3.7.3"
  }
 },
 "nbformat": 4,
 "nbformat_minor": 2
}
