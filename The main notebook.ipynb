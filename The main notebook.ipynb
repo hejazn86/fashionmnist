{
 "cells": [
  {
   "cell_type": "markdown",
   "metadata": {
    "colab_type": "text",
    "id": "view-in-github"
   },
   "source": [
    "<a href=\"https://colab.research.google.com/github/hejazn86/fashionmnist/blob/master/The%20main%20notebook.ipynb\" target=\"_parent\"><img src=\"https://colab.research.google.com/assets/colab-badge.svg\" alt=\"Open In Colab\"/></a>"
   ]
  },
  {
   "cell_type": "code",
   "execution_count": null,
   "metadata": {
    "colab": {},
    "colab_type": "code",
    "id": "L4RAl0eCDRP5",
    "outputId": "7e72df81-7f9d-4a3f-da3a-f89b5d3ad4bf"
   },
   "outputs": [
    {
     "name": "stdout",
     "output_type": "stream",
     "text": [
      "1.13.1\n",
      "(60000, 28, 28, 1)\n",
      "(10000, 28, 28, 1)\n",
      "(60000, 10)\n"
     ]
    }
   ],
   "source": [
    "import tensorflow as tf\n",
    "print(tf.__version__)\n",
    "import numpy as np\n",
    "\n",
    "import matplotlib.pyplot as plt\n",
    " \n",
    " \n",
    " \n",
    "(x_train, y_train), (x_test, y_test) = tf.keras.datasets.fashion_mnist.load_data()\n",
    "\n",
    " \n",
    "#print(x_train.shape, x_train[10])\n",
    "#print(y_train.shape, y_train[20])\n",
    " \n",
    "x_train = x_train.reshape(60000, 28, 28, 1)\n",
    "x_test = x_test.reshape(10000, 28, 28, 1)\n",
    "#x_train = np.expand_dims(x_train, -1)\n",
    "#x_test = np.expand_dims(x_test, -1)\n",
    " \n",
    "x_train = x_train.astype(\"float32\")\n",
    "x_test = x_test.astype(\"float32\")\n",
    "x_train /= np.argmax(x_train)\n",
    "x_test /= np.argmax(x_test)\n",
    " \n",
    "y_train = tf.keras.utils.to_categorical(y_train)\n",
    "y_test = tf.keras.utils.to_categorical(y_test)\n",
    " \n",
    "print(x_train.shape)\n",
    "print(x_test.shape)\n",
    "print(y_train.shape)"
   ]
  },
  {
   "cell_type": "code",
   "execution_count": null,
   "metadata": {
    "colab": {},
    "colab_type": "code",
    "id": "AIRYd7A5DRQW"
   },
   "outputs": [],
   "source": [
    "# creating the classifier\n",
    "\n",
    "model = tf.keras.models.Sequential([\n",
    "tf.keras.layers.BatchNormalization(axis = 1, momentum = 0.99, epsilon = 1e-12, center = True, scale = True),                                         \n",
    "tf.keras.layers.Conv2D(64, (3, 3), activation = 'elu', padding = 'same',kernel_initializer= 'he_uniform', input_shape=(28, 28, 1)),\n",
    "tf.keras.layers.MaxPool2D(pool_size = (2, 2), strides = (1, 1)),\n",
    "tf.keras.layers.Dropout(0.25),\n",
    "tf.keras.layers.Conv2D(128, (3, 3), activation = 'elu', padding = 'same', kernel_initializer= 'he_uniform'),\n",
    "tf.keras.layers.MaxPool2D(pool_size = (2, 2), strides = (1, 1)),\n",
    "tf.keras.layers.Dropout(0.3),\n",
    "tf.keras.layers.BatchNormalization(axis = 1, momentum = 0.99, epsilon = 1e-12, center = True, scale = True),\n",
    "tf.keras.layers.Conv2D(128, (3, 3), activation = 'elu', padding = 'same', kernel_initializer= 'he_uniform'),\n",
    "tf.keras.layers.MaxPool2D(pool_size = (2, 2), strides = (1, 1)),\n",
    "tf.keras.layers.Dropout(0.4),\n",
    "#tf.keras.layers.Conv2D(256, (3, 3), activation = 'elu', padding = 'same', kernel_initializer= 'he_uniform'),\n",
    "#tf.keras.layers.MaxPool2D(pool_size = (2, 2), strides = (1, 1)),\n",
    "#tf.keras.layers.Dropout(0.4),\n",
    "tf.keras.layers.Flatten(),\n",
    "tf.keras.layers.BatchNormalization(axis = 1, momentum = 0.99, epsilon = 1e-12, center = True, scale = True),\n",
    "tf.keras.layers.Dense(512, activation = 'elu', kernel_initializer= 'he_uniform'),\n",
    "tf.keras.layers.Dropout(0.6),\n",
    "tf.keras.layers.BatchNormalization(axis = 1, momentum = 0.99, epsilon = 1e-12, center = True, scale = True),\n",
    "tf.keras.layers.Dense(10, activation = 'softmax')                                         \n",
    "])\n",
    " \n",
    "model.compile(optimizer = tf.keras.optimizers.Adam(lr= 1e-3), loss= tf.keras.losses.categorical_crossentropy, metrics= ['acc'] )"
   ]
  },
  {
   "cell_type": "code",
   "execution_count": null,
   "metadata": {
    "colab": {},
    "colab_type": "code",
    "id": "l1aYdwJoDRQl"
   },
   "outputs": [],
   "source": [
    "# training the classifier\n",
    "history = model.fit(x_train, y_train, epochs=60, batch_size=300, validation_split= 0.2, validation_data=(x_test, y_test))\n",
    "model.summary()\n"
   ]
  },
  {
   "cell_type": "code",
   "execution_count": null,
   "metadata": {
    "colab": {},
    "colab_type": "code",
    "id": "Z2dOvkVeDRQ0"
   },
   "outputs": [],
   "source": [
    "# evaluating the classifier\n",
    "val_loss, val_acc = model.evaluate(x_test, y_test)\n",
    "y_pred = model.predict(x_test)\n",
    "\n",
    "loss = history.history['loss'] \n",
    "val_loss = history.history['val_loss']\n",
    "acc = history.history['acc']\n",
    "val_acc = history.history['val_acc']\n",
    "epochs = range(len(acc)) \n",
    " \n",
    " \n",
    "plt.figure(figsize=(9, 7))\n",
    "plt.subplot(121).plot(epochs, loss, 'ro')\n",
    "plt.subplot(121).plot(epochs, val_loss, 'g')\n",
    "plt.title('model Loss')\n",
    "plt.xlabel('Epochs')\n",
    "plt.ylabel('Loss')\n",
    "plt.legend(['Train', 'Test'], loc='upper right')\n",
    "plt.grid(True)\n",
    " \n",
    "plt.subplot(122).plot(epochs, acc, 'ro')\n",
    "plt.subplot(122).plot(epochs, val_acc, 'g')\n",
    "plt.title('model accuracy')\n",
    "plt.xlabel('Epochs')\n",
    "plt.ylabel('Accuracy')\n",
    "plt.legend(['Train', 'Test'], loc='upper right')\n",
    "plt.grid(True)\n",
    "plt.show()"
   ]
  },
  {
   "cell_type": "code",
   "execution_count": null,
   "metadata": {},
   "outputs": [],
   "source": [
    "# visualizing some of predicted photos\n",
    "\n",
    "import matplotlib.pyplot as plt\n",
    "import numpy as np\n",
    "labels = {1 : 'T_shirt/top', 2: 'Trouser', 3 : 'Pullover', 4 : 'Dress', 5 : 'Coat', 6 : 'Sandal',\n",
    "          7 : 'Shirt', 8 : 'Sneakers', 9 : 'Bag', 10 : 'Ankle boot'} \n",
    " \n",
    "y_pred = model.predict(x_test) \n",
    "y_pred = np.argmax(y_pred, axis = 1)\n",
    "\n",
    "\n",
    "fig, axs = plt.subplots(2, 3)\n",
    "axs[0, 0].imshow(x_test[1].reshape(28, 28), cmap = 'inferno')\n",
    "axs[0, 0].axis(False)\n",
    "axs[0, 0].grid(False)\n",
    "axs[0, 0].set_title(str(labels[y_pred[1]]))\n",
    "axs[0, 1].imshow(x_test[2].reshape(28, 28), cmap = 'inferno')\n",
    "axs[0, 1].axis(False)\n",
    "axs[0, 1].set_title(str(labels[y_pred[2]]))\n",
    "axs[0, 2].imshow(x_test[3].reshape(28, 28), cmap= 'inferno')\n",
    "axs[0, 2].axis(False)\n",
    "axs[0, 2].set_title(str(labels[y_pred[3]]))\n",
    "axs[1, 0].imshow(x_test[4].reshape(28, 28), cmap= 'inferno')\n",
    "axs[1, 0].axis(False)\n",
    "axs[1, 0].set_title(str(labels[y_pred[4]]))\n",
    "axs[1, 1].imshow(x_test[5].reshape(28, 28), cmap= 'inferno')\n",
    "axs[1, 1].axis(False)\n",
    "axs[1, 1].set_title(str(labels[y_pred[5]]))\n",
    "axs[1, 2].imshow(x_test[6].reshape(28, 28), cmap= 'inferno')\n",
    "axs[1, 2].axis(False)\n",
    "axs[1, 2].set_title(str(labels[y_pred[6]]))\n",
    "plt.show()"
   ]
  }
 ],
 "metadata": {
  "colab": {
   "include_colab_link": true,
   "name": "The main notebook.ipynb",
   "provenance": []
  },
  "kernelspec": {
   "display_name": "Python 3",
   "language": "python",
   "name": "python3"
  },
  "language_info": {
   "codemirror_mode": {
    "name": "ipython",
    "version": 3
   },
   "file_extension": ".py",
   "mimetype": "text/x-python",
   "name": "python",
   "nbconvert_exporter": "python",
   "pygments_lexer": "ipython3",
   "version": "3.7.3"
  }
 },
 "nbformat": 4,
 "nbformat_minor": 1
}
